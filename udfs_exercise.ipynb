{
 "cells": [
  {
   "cell_type": "markdown",
   "metadata": {},
   "source": [
    "# UDFs in Python"
   ]
  },
  {
   "cell_type": "markdown",
   "metadata": {},
   "source": [
    "#### Greeter\n",
    "Write a function that takes in a person's name, and prints out a greeting.\n",
    "The greeting must be at least three lines, and the person's name must be in each line.\n",
    "Use your function to greet at least **three** different people.\n",
    "\n",
    "**Bonus:** Store your three people in a list, and call your function from a for loop.\n",
    "\n",
    "\n",
    "**Example Output:**\n",
    "\n",
    "Hello John!<br>\n",
    "Hello John!<br>\n",
    "Hello John!<br>"
   ]
  },
  {
   "cell_type": "code",
   "execution_count": 1,
   "metadata": {},
   "outputs": [],
   "source": [
    "def greeter(name):\n",
    "    \"\"\"Prints out a three-line greeting\"\"\"\n",
    "    print('Hello ' + name + '!')\n",
    "    print('Hello ' + name + '!')\n",
    "    print('Hello ' + name + '!')\n",
    "    "
   ]
  },
  {
   "cell_type": "code",
   "execution_count": 7,
   "metadata": {},
   "outputs": [
    {
     "name": "stdout",
     "output_type": "stream",
     "text": [
      "Hello Paul!\n",
      "Hello Paul!\n",
      "Hello Paul!\n"
     ]
    }
   ],
   "source": [
    "greeter('Paul')"
   ]
  },
  {
   "cell_type": "code",
   "execution_count": 9,
   "metadata": {},
   "outputs": [
    {
     "name": "stdout",
     "output_type": "stream",
     "text": [
      "Hello John!\n",
      "Hello John!\n",
      "Hello John!\n"
     ]
    }
   ],
   "source": [
    "greeter('John')"
   ]
  },
  {
   "cell_type": "code",
   "execution_count": 10,
   "metadata": {},
   "outputs": [
    {
     "name": "stdout",
     "output_type": "stream",
     "text": [
      "Hello Steve!\n",
      "Hello Steve!\n",
      "Hello Steve!\n"
     ]
    }
   ],
   "source": [
    "greeter('Steve')"
   ]
  },
  {
   "cell_type": "code",
   "execution_count": 11,
   "metadata": {},
   "outputs": [
    {
     "name": "stdout",
     "output_type": "stream",
     "text": [
      "Hello Paul!\n",
      "Hello Paul!\n",
      "Hello Paul!\n",
      "Hello John!\n",
      "Hello John!\n",
      "Hello John!\n",
      "Hello Steve!\n",
      "Hello Steve!\n",
      "Hello Steve!\n"
     ]
    }
   ],
   "source": [
    "people = ['Paul', 'John', 'Steve']\n",
    "for person in people:\n",
    "    greeter(person)"
   ]
  },
  {
   "cell_type": "markdown",
   "metadata": {},
   "source": [
    "#### Full Names\n",
    "Write a function that takes in a first name and a last name, and prints out a nicely formatted full name, in a sentence. Your sentence could be as simple as, \"Hello, full_name.\""
   ]
  },
  {
   "cell_type": "code",
   "execution_count": 12,
   "metadata": {},
   "outputs": [],
   "source": [
    "def full_name(first_name, last_name):\n",
    "    \"\"\"Prints out a nicely formatted full name in a sentence.\"\"\"\n",
    "    print(f'Hello, {first_name} {last_name}.')"
   ]
  },
  {
   "cell_type": "code",
   "execution_count": 13,
   "metadata": {},
   "outputs": [
    {
     "name": "stdout",
     "output_type": "stream",
     "text": [
      "Hello, John Paul.\n"
     ]
    }
   ],
   "source": [
    "full_name('John', 'Paul')"
   ]
  },
  {
   "cell_type": "markdown",
   "metadata": {},
   "source": [
    "#### Addition Calculator\n",
    "Write a function that takes in two numbers, and adds them together. Make your function print out a sentence showing the two numbers, and the result.\n",
    "\n",
    "**Example Output:**\n",
    "\n",
    "The sum of 2 and 3 is 5."
   ]
  },
  {
   "cell_type": "code",
   "execution_count": 14,
   "metadata": {},
   "outputs": [],
   "source": [
    "def addition_calculator(num_1, num_2):\n",
    "    \"\"\"Prints out a sentence showing the sum of two numbers.\"\"\"\n",
    "    result = num_1 + num_2\n",
    "    print(f'The sum of {num_1} and {num_2} is {result}.')"
   ]
  },
  {
   "cell_type": "code",
   "execution_count": 15,
   "metadata": {},
   "outputs": [
    {
     "name": "stdout",
     "output_type": "stream",
     "text": [
      "The sum of 55 and 45 is 100.\n"
     ]
    }
   ],
   "source": [
    "addition_calculator(55, 45)"
   ]
  },
  {
   "cell_type": "markdown",
   "metadata": {},
   "source": [
    "#### Return Calculator\n",
    "Modify Addition Calculator so that your function **returns** the sum of the two numbers. The printing should happen outside of the function."
   ]
  },
  {
   "cell_type": "code",
   "execution_count": 21,
   "metadata": {},
   "outputs": [],
   "source": [
    "def return_calculator(num_1, num_2):\n",
    "    \"\"\"Returns the sum of two numbers.\"\"\"\n",
    "    result = num_1 + num_2\n",
    "    return result"
   ]
  },
  {
   "cell_type": "code",
   "execution_count": 22,
   "metadata": {},
   "outputs": [
    {
     "data": {
      "text/plain": [
       "100"
      ]
     },
     "execution_count": 22,
     "metadata": {},
     "output_type": "execute_result"
    }
   ],
   "source": [
    "return_calculator(55, 45)"
   ]
  },
  {
   "cell_type": "raw",
   "metadata": {},
   "source": []
  },
  {
   "cell_type": "markdown",
   "metadata": {},
   "source": [
    "#### Sum everything in the list\n",
    "\n",
    "Write a Python function to sum all the numbers in a list"
   ]
  },
  {
   "cell_type": "code",
   "execution_count": 3,
   "metadata": {},
   "outputs": [],
   "source": [
    "def list_sum(list):\n",
    "    \"\"\"Returns the sum of all numbers in a list.\"\"\"\n",
    "    sum = 0\n",
    "    for num in list:\n",
    "        sum += num\n",
    "    return sum\n",
    "        "
   ]
  },
  {
   "cell_type": "code",
   "execution_count": 4,
   "metadata": {},
   "outputs": [
    {
     "data": {
      "text/plain": [
       "42.5"
      ]
     },
     "execution_count": 4,
     "metadata": {},
     "output_type": "execute_result"
    }
   ],
   "source": [
    "list_sum([5, 5.5, 23, 9])"
   ]
  },
  {
   "cell_type": "markdown",
   "metadata": {},
   "source": [
    "#### Reverse string\n",
    "\n",
    "Write a Python program to reverse a string.\n",
    "\n",
    "Sample String : \"1234abcd\" <br>\n",
    "Expected Output : \"dcba4321\""
   ]
  },
  {
   "cell_type": "code",
   "execution_count": 5,
   "metadata": {},
   "outputs": [],
   "source": [
    "def reverse_string(s):\n",
    "    \"\"\"Returns a reversed string.\"\"\"\n",
    "    return s[::-1]"
   ]
  },
  {
   "cell_type": "code",
   "execution_count": 6,
   "metadata": {},
   "outputs": [
    {
     "data": {
      "text/plain": [
       "'.gnirts desrever a snruteR'"
      ]
     },
     "execution_count": 6,
     "metadata": {},
     "output_type": "execute_result"
    }
   ],
   "source": [
    "reverse_string('Returns a reversed string.')"
   ]
  },
  {
   "cell_type": "markdown",
   "metadata": {},
   "source": [
    "#### Range check\n",
    "\n",
    "Write a Python function to check whether a number is in a given range. \n",
    "\n",
    "Inputs: number, tuple of min and max<br>\n",
    "Outputs: True/False"
   ]
  },
  {
   "cell_type": "code",
   "execution_count": 14,
   "metadata": {},
   "outputs": [],
   "source": [
    "def range_check(num, m_pair):\n",
    "    \"\"\"Returns true or false if number is in a given range.\"\"\"\n",
    "    min = m_pair[0]\n",
    "    max= m_pair[1]\n",
    "    if min <= num <= max:\n",
    "        return True\n",
    "    else:\n",
    "        return False"
   ]
  },
  {
   "cell_type": "code",
   "execution_count": 15,
   "metadata": {},
   "outputs": [
    {
     "data": {
      "text/plain": [
       "True"
      ]
     },
     "execution_count": 15,
     "metadata": {},
     "output_type": "execute_result"
    }
   ],
   "source": [
    "range_check(5, (1, 10))"
   ]
  },
  {
   "cell_type": "code",
   "execution_count": 16,
   "metadata": {},
   "outputs": [
    {
     "data": {
      "text/plain": [
       "False"
      ]
     },
     "execution_count": 16,
     "metadata": {},
     "output_type": "execute_result"
    }
   ],
   "source": [
    "range_check(25, (100, 200))"
   ]
  },
  {
   "cell_type": "code",
   "execution_count": null,
   "metadata": {},
   "outputs": [],
   "source": []
  }
 ],
 "metadata": {
  "kernelspec": {
   "display_name": "Python 3",
   "language": "python",
   "name": "python3"
  },
  "language_info": {
   "codemirror_mode": {
    "name": "ipython",
    "version": 3
   },
   "file_extension": ".py",
   "mimetype": "text/x-python",
   "name": "python",
   "nbconvert_exporter": "python",
   "pygments_lexer": "ipython3",
   "version": "3.8.3"
  }
 },
 "nbformat": 4,
 "nbformat_minor": 4
}
