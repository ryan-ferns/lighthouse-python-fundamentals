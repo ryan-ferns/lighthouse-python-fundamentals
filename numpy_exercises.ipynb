{
 "cells": [
  {
   "cell_type": "markdown",
   "metadata": {},
   "source": [
    "# NumPy exercises\n",
    "\n",
    "We are going to practice NumPy skills and basic syntax.\n",
    "\n",
    "We put here also some examples that were not in the tutorial on purpose. Try to use google and offial NumPy documentation to solve these exercises."
   ]
  },
  {
   "cell_type": "markdown",
   "metadata": {},
   "source": [
    "#### 1. Import the numpy package under the name `np` (★☆☆)"
   ]
  },
  {
   "cell_type": "code",
   "execution_count": 33,
   "metadata": {},
   "outputs": [],
   "source": [
    "import numpy as np\n"
   ]
  },
  {
   "cell_type": "markdown",
   "metadata": {},
   "source": [
    "#### 3. Create a null vector of size 10 (★☆☆)"
   ]
  },
  {
   "cell_type": "code",
   "execution_count": 7,
   "metadata": {
    "collapsed": false,
    "jupyter": {
     "outputs_hidden": false
    }
   },
   "outputs": [
    {
     "name": "stdout",
     "output_type": "stream",
     "text": [
      "[0. 0. 0. 0. 0. 0. 0. 0. 0. 0.]\n"
     ]
    }
   ],
   "source": [
    "a = np.zeros(10)\n",
    "print(a)"
   ]
  },
  {
   "cell_type": "markdown",
   "metadata": {},
   "source": [
    "#### 6.  Create a null vector of size 10 but the fifth value which is 1 (★☆☆)"
   ]
  },
  {
   "cell_type": "code",
   "execution_count": 8,
   "metadata": {
    "collapsed": false,
    "jupyter": {
     "outputs_hidden": false
    }
   },
   "outputs": [
    {
     "name": "stdout",
     "output_type": "stream",
     "text": [
      "[0. 0. 0. 0. 1. 0. 0. 0. 0. 0.]\n"
     ]
    }
   ],
   "source": [
    "a = np.zeros(10)\n",
    "a[4] = 1\n",
    "print(a)"
   ]
  },
  {
   "cell_type": "code",
   "execution_count": null,
   "metadata": {
    "collapsed": false,
    "jupyter": {
     "outputs_hidden": false
    }
   },
   "outputs": [],
   "source": []
  },
  {
   "cell_type": "markdown",
   "metadata": {},
   "source": [
    "#### 7.  Create a vector with values ranging from 10 to 49 (★☆☆)"
   ]
  },
  {
   "cell_type": "code",
   "execution_count": 9,
   "metadata": {
    "collapsed": false,
    "jupyter": {
     "outputs_hidden": false
    }
   },
   "outputs": [
    {
     "name": "stdout",
     "output_type": "stream",
     "text": [
      "[10 11 12 13 14 15 16 17 18 19 20 21 22 23 24 25 26 27 28 29 30 31 32 33\n",
      " 34 35 36 37 38 39 40 41 42 43 44 45 46 47 48 49]\n"
     ]
    }
   ],
   "source": [
    "a = np.arange(10, 50)\n",
    "print(a)"
   ]
  },
  {
   "cell_type": "markdown",
   "metadata": {},
   "source": [
    "#### 8.  Reverse a vector (first element becomes last) (★☆☆)"
   ]
  },
  {
   "cell_type": "code",
   "execution_count": 10,
   "metadata": {
    "collapsed": false,
    "jupyter": {
     "outputs_hidden": false
    }
   },
   "outputs": [
    {
     "name": "stdout",
     "output_type": "stream",
     "text": [
      "[10 11 12 13 14 15 16 17 18 19 20 21 22 23 24 25 26 27 28 29 30 31 32 33\n",
      " 34 35 36 37 38 39 40 41 42 43 44 45 46 47 48 49]\n",
      "[49 48 47 46 45 44 43 42 41 40 39 38 37 36 35 34 33 32 31 30 29 28 27 26\n",
      " 25 24 23 22 21 20 19 18 17 16 15 14 13 12 11 10]\n"
     ]
    }
   ],
   "source": [
    "a = np.arange(10, 50)\n",
    "b = a[::-1]\n",
    "print(a)\n",
    "print(b)"
   ]
  },
  {
   "cell_type": "markdown",
   "metadata": {},
   "source": [
    "#### 9.  Create a 3x3 matrix with values ranging from 0 to 8 (★☆☆)"
   ]
  },
  {
   "cell_type": "code",
   "execution_count": 11,
   "metadata": {
    "collapsed": false,
    "jupyter": {
     "outputs_hidden": false
    }
   },
   "outputs": [
    {
     "name": "stdout",
     "output_type": "stream",
     "text": [
      "[[0 1 2]\n",
      " [3 4 5]\n",
      " [6 7 8]]\n"
     ]
    }
   ],
   "source": [
    "a = np.arange(0, 9).reshape((3, 3))\n",
    "print(a)"
   ]
  },
  {
   "cell_type": "markdown",
   "metadata": {},
   "source": [
    "#### 10. Find indices of non-zero elements from \\[1,2,0,0,4,0\\] (★☆☆)"
   ]
  },
  {
   "cell_type": "code",
   "execution_count": 15,
   "metadata": {
    "collapsed": false,
    "jupyter": {
     "outputs_hidden": false
    }
   },
   "outputs": [
    {
     "name": "stdout",
     "output_type": "stream",
     "text": [
      "[0 1 4]\n"
     ]
    }
   ],
   "source": [
    "a = np.array([1, 2, 0, 0, 4, 0])\n",
    "b = np.nonzero(a)\n",
    "c = b[0]\n",
    "print(c)"
   ]
  },
  {
   "cell_type": "markdown",
   "metadata": {},
   "source": [
    "#### 12. Create a 3x3x3 array with random values (★☆☆)"
   ]
  },
  {
   "cell_type": "code",
   "execution_count": 3,
   "metadata": {},
   "outputs": [
    {
     "name": "stdout",
     "output_type": "stream",
     "text": [
      "[[[0.95433592 0.59449357 0.21900867]\n",
      "  [0.67193272 0.6098792  0.11070529]\n",
      "  [0.54221216 0.91501514 0.65157483]]\n",
      "\n",
      " [[0.27782819 0.12583204 0.44557885]\n",
      "  [0.68387565 0.96159102 0.16765763]\n",
      "  [0.43199159 0.29670826 0.62055356]]\n",
      "\n",
      " [[0.10429964 0.74275779 0.32452941]\n",
      "  [0.59422113 0.72687867 0.82304463]\n",
      "  [0.48102592 0.47683182 0.15727712]]]\n"
     ]
    }
   ],
   "source": [
    "a = np.random.rand(3,3,3)\n",
    "print(a)"
   ]
  },
  {
   "cell_type": "markdown",
   "metadata": {},
   "source": [
    "#### 13. Create a 10x10 array with random values and find the minimum and maximum values (★☆☆)"
   ]
  },
  {
   "cell_type": "code",
   "execution_count": 4,
   "metadata": {
    "collapsed": false,
    "jupyter": {
     "outputs_hidden": false
    }
   },
   "outputs": [
    {
     "name": "stdout",
     "output_type": "stream",
     "text": [
      "[[0.14018508 0.48038029 0.65807344 0.14393907 0.37932268 0.26308161\n",
      "  0.81807064 0.45773323 0.33753775 0.22462872]\n",
      " [0.95333033 0.68123529 0.37881499 0.91111217 0.00829859 0.45229762\n",
      "  0.81718691 0.73207707 0.05076977 0.9670802 ]\n",
      " [0.1628234  0.74549857 0.39828486 0.92862671 0.44742489 0.55709216\n",
      "  0.30857493 0.57143608 0.7886797  0.17704861]\n",
      " [0.22471926 0.88279601 0.37936839 0.04796336 0.96577684 0.36462282\n",
      "  0.9296562  0.27315471 0.50775708 0.94767525]\n",
      " [0.66372035 0.98656381 0.43412877 0.19503962 0.21493825 0.83377279\n",
      "  0.75980141 0.40296518 0.27605751 0.51177521]\n",
      " [0.55960889 0.69008189 0.47373984 0.8276678  0.62553279 0.05120701\n",
      "  0.72248942 0.87149689 0.31292116 0.99118517]\n",
      " [0.49712828 0.84975895 0.56522804 0.92753845 0.08172633 0.59377285\n",
      "  0.47979865 0.47622724 0.63153156 0.72288322]\n",
      " [0.34221442 0.96638924 0.370178   0.21816293 0.18508271 0.03667236\n",
      "  0.03036275 0.70667295 0.10264178 0.15276905]\n",
      " [0.60784796 0.55390164 0.9076014  0.35438358 0.30399892 0.92007429\n",
      "  0.25404183 0.98312848 0.41025298 0.82670219]\n",
      " [0.86375631 0.95577199 0.23229538 0.13678316 0.90637016 0.51937018\n",
      "  0.36116243 0.96671856 0.5122655  0.86431239]]\n",
      "0.008298587697444737\n",
      "0.9911851665645528\n"
     ]
    }
   ],
   "source": [
    "a = np.random.rand(10,10)\n",
    "b = np.min(a)\n",
    "c = np.max(a)\n",
    "print(a)\n",
    "print(b)\n",
    "print(c)"
   ]
  },
  {
   "cell_type": "markdown",
   "metadata": {},
   "source": [
    "#### 14. Create a random vector of size 30 and find the mean value (★☆☆)"
   ]
  },
  {
   "cell_type": "code",
   "execution_count": 6,
   "metadata": {
    "collapsed": false,
    "jupyter": {
     "outputs_hidden": false
    }
   },
   "outputs": [
    {
     "name": "stdout",
     "output_type": "stream",
     "text": [
      "[0.38564435 0.77647398 0.30042688 0.50067166 0.19160037 0.02244591\n",
      " 0.67732543 0.70365074 0.34874548 0.12543289 0.48975442 0.99656121\n",
      " 0.03060847 0.80309173 0.70100926 0.5465108  0.64479872 0.75131755\n",
      " 0.80529918 0.12793777 0.97471612 0.63999103 0.47904382 0.70972082\n",
      " 0.19566353 0.29370895 0.47315976 0.84985599 0.57888722 0.10572386]\n",
      "0.50765926410179\n"
     ]
    }
   ],
   "source": [
    "a = np.random.rand(30)\n",
    "b = np.mean(a)\n",
    "print(a)\n",
    "print(b)"
   ]
  },
  {
   "cell_type": "markdown",
   "metadata": {},
   "source": [
    "#### 15. Create a 2d array with 1 on the border and 0 inside (★☆☆)"
   ]
  },
  {
   "cell_type": "code",
   "execution_count": 8,
   "metadata": {
    "collapsed": false,
    "jupyter": {
     "outputs_hidden": false
    }
   },
   "outputs": [
    {
     "name": "stdout",
     "output_type": "stream",
     "text": [
      "[[1. 1. 1. 1. 1.]\n",
      " [1. 1. 1. 1. 1.]\n",
      " [1. 1. 1. 1. 1.]\n",
      " [1. 1. 1. 1. 1.]\n",
      " [1. 1. 1. 1. 1.]]\n",
      "[[1. 1. 1. 1. 1.]\n",
      " [1. 0. 0. 0. 1.]\n",
      " [1. 0. 0. 0. 1.]\n",
      " [1. 0. 0. 0. 1.]\n",
      " [1. 1. 1. 1. 1.]]\n"
     ]
    }
   ],
   "source": [
    "a = np.ones((5, 5))\n",
    "print(a)\n",
    "a[1:4, 1:4] = 0\n",
    "print(a)"
   ]
  },
  {
   "cell_type": "markdown",
   "metadata": {},
   "source": [
    "#### 16. How to add a border (filled with 0's) around an existing array? (★☆☆)"
   ]
  },
  {
   "cell_type": "markdown",
   "metadata": {
    "jupyter": {
     "outputs_hidden": false
    }
   },
   "source": [
    "Use np.pad().\n",
    "For example, let A be an array.\n",
    "B = np.pad(A, pad_width = 1, mode = 'constant', constant = 0)"
   ]
  },
  {
   "cell_type": "code",
   "execution_count": 10,
   "metadata": {},
   "outputs": [
    {
     "name": "stdout",
     "output_type": "stream",
     "text": [
      "[[[0.         0.         0.         0.         0.        ]\n",
      "  [0.         0.         0.         0.         0.        ]\n",
      "  [0.         0.         0.         0.         0.        ]\n",
      "  [0.         0.         0.         0.         0.        ]\n",
      "  [0.         0.         0.         0.         0.        ]]\n",
      "\n",
      " [[0.         0.         0.         0.         0.        ]\n",
      "  [0.         0.12697469 0.95429689 0.9583837  0.        ]\n",
      "  [0.         0.6098923  0.81773301 0.3581532  0.        ]\n",
      "  [0.         0.76601658 0.10940276 0.6372721  0.        ]\n",
      "  [0.         0.         0.         0.         0.        ]]\n",
      "\n",
      " [[0.         0.         0.         0.         0.        ]\n",
      "  [0.         0.16298364 0.00575323 0.40246523 0.        ]\n",
      "  [0.         0.52929397 0.98978169 0.84935433 0.        ]\n",
      "  [0.         0.14134602 0.02684604 0.8387519  0.        ]\n",
      "  [0.         0.         0.         0.         0.        ]]\n",
      "\n",
      " [[0.         0.         0.         0.         0.        ]\n",
      "  [0.         0.80269842 0.56965187 0.37163166 0.        ]\n",
      "  [0.         0.11692514 0.75463803 0.62590278 0.        ]\n",
      "  [0.         0.45756421 0.58216551 0.98079051 0.        ]\n",
      "  [0.         0.         0.         0.         0.        ]]\n",
      "\n",
      " [[0.         0.         0.         0.         0.        ]\n",
      "  [0.         0.         0.         0.         0.        ]\n",
      "  [0.         0.         0.         0.         0.        ]\n",
      "  [0.         0.         0.         0.         0.        ]\n",
      "  [0.         0.         0.         0.         0.        ]]]\n"
     ]
    }
   ],
   "source": [
    "A = np.random.rand(3,3,3)\n",
    "B = np.pad(A, pad_width = 1, mode = 'constant', constant_values = 0)\n",
    "print(B)"
   ]
  },
  {
   "cell_type": "markdown",
   "metadata": {},
   "source": [
    "#### 17. What is the result of the following expression? (★☆☆)"
   ]
  },
  {
   "cell_type": "markdown",
   "metadata": {},
   "source": [
    "```python\n",
    "0 * np.nan\n",
    "np.nan == np.nan\n",
    "np.inf > np.nan\n",
    "np.nan - np.nan\n",
    "np.nan in set([np.nan])\n",
    "0.3 == 3 * 0.1\n",
    "```"
   ]
  },
  {
   "cell_type": "code",
   "execution_count": 14,
   "metadata": {
    "collapsed": false,
    "jupyter": {
     "outputs_hidden": false
    }
   },
   "outputs": [
    {
     "name": "stdout",
     "output_type": "stream",
     "text": [
      "nan\n",
      "False\n",
      "False\n",
      "nan\n",
      "True\n",
      "False\n"
     ]
    }
   ],
   "source": [
    "print(0 * np.nan)\n",
    "print(np.nan == np.nan)\n",
    "print(np.inf > np.nan)\n",
    "print(np.nan - np.nan)\n",
    "print(np.nan in set([np.nan]))\n",
    "print(0.3 == 3 * 0.1)"
   ]
  },
  {
   "cell_type": "markdown",
   "metadata": {},
   "source": [
    "#### 18. Create a 5x5 matrix with values 1,2,3,4 just below the diagonal (★☆☆)"
   ]
  },
  {
   "cell_type": "code",
   "execution_count": 17,
   "metadata": {
    "collapsed": false,
    "jupyter": {
     "outputs_hidden": false
    }
   },
   "outputs": [
    {
     "name": "stdout",
     "output_type": "stream",
     "text": [
      "[[0 0 0 0 0]\n",
      " [1 0 0 0 0]\n",
      " [0 2 0 0 0]\n",
      " [0 0 3 0 0]\n",
      " [0 0 0 4 0]]\n"
     ]
    }
   ],
   "source": [
    "a = np.arange(1, 5)\n",
    "b = np.diag(a, k = -1)\n",
    "print(b)"
   ]
  },
  {
   "cell_type": "markdown",
   "metadata": {},
   "source": [
    "#### 20. Consider a (6,7,8) shape array, what is the index (x,y,z) of the 100th element?"
   ]
  },
  {
   "cell_type": "code",
   "execution_count": 18,
   "metadata": {
    "collapsed": false,
    "jupyter": {
     "outputs_hidden": false
    }
   },
   "outputs": [
    {
     "name": "stdout",
     "output_type": "stream",
     "text": [
      "(1, 5, 4)\n"
     ]
    }
   ],
   "source": [
    "print(np.unravel_index(100, (6, 7, 8)))"
   ]
  },
  {
   "cell_type": "markdown",
   "metadata": {},
   "source": [
    "#### 22. Normalize a 5x5 random matrix (★☆☆)"
   ]
  },
  {
   "cell_type": "code",
   "execution_count": 19,
   "metadata": {
    "collapsed": false,
    "jupyter": {
     "outputs_hidden": false
    }
   },
   "outputs": [
    {
     "name": "stdout",
     "output_type": "stream",
     "text": [
      "[[0.08936676 0.04388954 0.20738704 0.00856145 0.52164842]\n",
      " [0.99095646 0.13365697 0.29814581 0.01557276 0.7213379 ]\n",
      " [0.88809895 0.35904986 0.71839941 0.41898556 0.87614784]\n",
      " [0.64143091 0.48531934 0.3437058  0.48586821 0.99202774]\n",
      " [0.85698059 0.9036735  0.28520519 0.80276441 0.5252138 ]]\n",
      "[[0.03004149 0.01475389 0.06971513 0.00287801 0.17535709]\n",
      " [0.33311947 0.04493006 0.10022456 0.00523493 0.24248462]\n",
      " [0.29854293 0.12069804 0.24149681 0.14084599 0.29452545]\n",
      " [0.21562312 0.16314473 0.11553998 0.16332923 0.33347959]\n",
      " [0.2880822  0.30377847 0.09587445 0.26985691 0.17655563]]\n"
     ]
    }
   ],
   "source": [
    "A = np.random.rand(5, 5)\n",
    "b = np.linalg.norm(A)\n",
    "B = A / b\n",
    "print(A)\n",
    "print(B)\n"
   ]
  },
  {
   "cell_type": "markdown",
   "metadata": {},
   "source": [
    "#### 25. Given a 1D array, negate all elements which are between 3 and 8, in place. (★☆☆)"
   ]
  },
  {
   "cell_type": "markdown",
   "metadata": {
    "jupyter": {
     "outputs_hidden": false
    }
   },
   "source": [
    "Let a be the array.\n",
    "Then a[3 : 9] = -a[3 : 9].\n"
   ]
  },
  {
   "cell_type": "code",
   "execution_count": 20,
   "metadata": {},
   "outputs": [
    {
     "name": "stdout",
     "output_type": "stream",
     "text": [
      "[ 0  1  2  3  4  5  6  7  8  9 10]\n",
      "[ 0  1  2 -3 -4 -5 -6 -7 -8  9 10]\n"
     ]
    }
   ],
   "source": [
    "a = np.arange(0,11)\n",
    "print(a)\n",
    "a[3 : 9] = -a[3 : 9]\n",
    "print(a)"
   ]
  },
  {
   "cell_type": "markdown",
   "metadata": {},
   "source": [
    "#### 29. How to round away from zero a float array ? (★☆☆)"
   ]
  },
  {
   "cell_type": "markdown",
   "metadata": {
    "jupyter": {
     "outputs_hidden": false
    }
   },
   "source": [
    "Let A be an array.\n",
    "Then use np.sign(A) * np.ceil(np.abs(A))."
   ]
  },
  {
   "cell_type": "code",
   "execution_count": 12,
   "metadata": {},
   "outputs": [
    {
     "name": "stdout",
     "output_type": "stream",
     "text": [
      "[[-0.43655147  0.40083611 -1.37229607 -0.97304626 -0.97877161 -0.52221554\n",
      "   1.48246094  0.1919241  -0.02867676 -1.39831945]]\n",
      "[[-1.  1. -2. -1. -1. -1.  2.  1. -1. -2.]]\n"
     ]
    }
   ],
   "source": [
    "A = np.random.randn(1,10)\n",
    "B = np.sign(A) * np.ceil(np.abs(A))\n",
    "print(A)\n",
    "print(B)"
   ]
  },
  {
   "cell_type": "markdown",
   "metadata": {},
   "source": [
    "#### 30. How to find common values between two arrays? (★☆☆)"
   ]
  },
  {
   "cell_type": "markdown",
   "metadata": {
    "jupyter": {
     "outputs_hidden": false
    }
   },
   "source": [
    "Use np.intersect1d().\n",
    "For example, let A and B be arrays.\n",
    "C = np.intersect1d(A, B)\n"
   ]
  },
  {
   "cell_type": "code",
   "execution_count": 3,
   "metadata": {},
   "outputs": [
    {
     "name": "stdout",
     "output_type": "stream",
     "text": [
      "[0 1 2 3 4 5 6 7 8 9]\n",
      "[[1. 0.]\n",
      " [0. 1.]]\n",
      "[0. 1.]\n"
     ]
    }
   ],
   "source": [
    "A = np.arange(0, 10)\n",
    "B = np.identity(2)\n",
    "C = np.intersect1d(A, B)\n",
    "print(A)\n",
    "print(B)\n",
    "print(C)"
   ]
  },
  {
   "cell_type": "markdown",
   "metadata": {},
   "source": [
    "#### 32. Is the following expressions true? (★☆☆)"
   ]
  },
  {
   "cell_type": "markdown",
   "metadata": {},
   "source": [
    "```python\n",
    "np.sqrt(-1) == np.emath.sqrt(-1)\n",
    "```"
   ]
  },
  {
   "cell_type": "code",
   "execution_count": 4,
   "metadata": {
    "collapsed": false,
    "jupyter": {
     "outputs_hidden": false
    }
   },
   "outputs": [
    {
     "name": "stdout",
     "output_type": "stream",
     "text": [
      "False\n"
     ]
    },
    {
     "name": "stderr",
     "output_type": "stream",
     "text": [
      "<ipython-input-4-c6ff0ad7fd7b>:1: RuntimeWarning: invalid value encountered in sqrt\n",
      "  print(np.sqrt(-1) == np.emath.sqrt(-1))\n"
     ]
    }
   ],
   "source": [
    "print(np.sqrt(-1) == np.emath.sqrt(-1))"
   ]
  },
  {
   "cell_type": "markdown",
   "metadata": {},
   "source": [
    "#### 38. Consider a generator function that generates 10 integers and use it to build an array (★☆☆)"
   ]
  },
  {
   "cell_type": "code",
   "execution_count": 5,
   "metadata": {
    "collapsed": false,
    "jupyter": {
     "outputs_hidden": false
    }
   },
   "outputs": [
    {
     "name": "stdout",
     "output_type": "stream",
     "text": [
      "[0. 1. 2. 3. 4. 5. 6. 7. 8. 9.]\n"
     ]
    }
   ],
   "source": [
    "def generate():\n",
    "    for x in range(10):\n",
    "        yield x\n",
    "Z = np.fromiter(generate(),dtype=float,count=-1)\n",
    "print(Z)"
   ]
  },
  {
   "cell_type": "markdown",
   "metadata": {},
   "source": [
    "#### 39. Create a vector of size 10 with values ranging from 0 to 1, both excluded (★★☆)"
   ]
  },
  {
   "cell_type": "code",
   "execution_count": 10,
   "metadata": {
    "collapsed": false,
    "jupyter": {
     "outputs_hidden": false
    }
   },
   "outputs": [
    {
     "name": "stdout",
     "output_type": "stream",
     "text": [
      "[0.09090909 0.18181818 0.27272727 0.36363636 0.45454545 0.54545455\n",
      " 0.63636364 0.72727273 0.81818182 0.90909091]\n"
     ]
    }
   ],
   "source": [
    "a = np.linspace(0, 1, num = 11, endpoint = False)[1:]\n",
    "print(a)"
   ]
  },
  {
   "cell_type": "markdown",
   "metadata": {},
   "source": [
    "#### 40. Create a random vector of size 10 and sort it (★★☆)"
   ]
  },
  {
   "cell_type": "code",
   "execution_count": 11,
   "metadata": {
    "collapsed": false,
    "jupyter": {
     "outputs_hidden": false
    }
   },
   "outputs": [
    {
     "name": "stdout",
     "output_type": "stream",
     "text": [
      "[[ 1.39145405 -0.57543539 -1.31483941  0.77680236 -1.29850326 -0.57516068\n",
      "  -0.55396092  0.01303196 -0.72588742 -1.98111977]]\n",
      "[[-1.98111977 -1.31483941 -1.29850326 -0.72588742 -0.57543539 -0.57516068\n",
      "  -0.55396092  0.01303196  0.77680236  1.39145405]]\n"
     ]
    }
   ],
   "source": [
    "a = np.random.randn(1, 10)\n",
    "b = np.sort(a)\n",
    "print(a)\n",
    "print(b)"
   ]
  },
  {
   "cell_type": "markdown",
   "metadata": {},
   "source": [
    "#### 42. Consider two random array A and B, check if they are equal (★★☆)"
   ]
  },
  {
   "cell_type": "markdown",
   "metadata": {
    "jupyter": {
     "outputs_hidden": false
    }
   },
   "source": [
    "Use np.array_equal(A, B)."
   ]
  },
  {
   "cell_type": "code",
   "execution_count": 13,
   "metadata": {},
   "outputs": [
    {
     "name": "stdout",
     "output_type": "stream",
     "text": [
      "[[ 0.56755378  0.62242602]\n",
      " [-0.0663011  -0.59997846]]\n",
      "[[-0.82552635 -0.30422001]\n",
      " [-0.51901714 -0.67895227]]\n",
      "False\n"
     ]
    }
   ],
   "source": [
    "A = np.random.randn(2,2)\n",
    "B = np.random.randn(2,2)\n",
    "print(A)\n",
    "print(B)\n",
    "print(np.array_equal(A, B))"
   ]
  },
  {
   "cell_type": "markdown",
   "metadata": {},
   "source": [
    "#### 45. Create random vector of size 10 and replace the maximum value by 0 (★★☆)"
   ]
  },
  {
   "cell_type": "code",
   "execution_count": 15,
   "metadata": {
    "collapsed": false,
    "jupyter": {
     "outputs_hidden": false
    }
   },
   "outputs": [
    {
     "name": "stdout",
     "output_type": "stream",
     "text": [
      "[0.05177529 0.34504776 0.34243882 0.89762231 0.00604702 0.30848095\n",
      " 0.7307775  0.82893015 0.97351575 0.48841932]\n",
      "[0.05177529 0.34504776 0.34243882 0.89762231 0.00604702 0.30848095\n",
      " 0.7307775  0.82893015 0.         0.48841932]\n"
     ]
    }
   ],
   "source": [
    "a = np.random.rand(10)\n",
    "print(a)\n",
    "\n",
    "a[a.argmax()] = 0\n",
    "print(a)"
   ]
  },
  {
   "cell_type": "markdown",
   "metadata": {},
   "source": [
    "#### 50. How to find the closest value (to a given scalar) in a vector? (★★☆)"
   ]
  },
  {
   "cell_type": "markdown",
   "metadata": {
    "jupyter": {
     "outputs_hidden": false
    }
   },
   "source": [
    "Let a be a vector and c be a scalar.\n",
    "b = np.abs(a-c)\n",
    "index_closest = b.argmin()\n",
    "closest = a[index_closest]"
   ]
  },
  {
   "cell_type": "code",
   "execution_count": 29,
   "metadata": {},
   "outputs": [
    {
     "name": "stdout",
     "output_type": "stream",
     "text": [
      "[-1.82393828 -0.59996833 -0.73438083  1.1196138  -0.51355302 -1.11693873\n",
      "  1.62762274  1.73447041 -0.67404465  0.25252296]\n",
      "2.5\n",
      "1.7344704052683466\n"
     ]
    }
   ],
   "source": [
    "a = np.random.randn(10)\n",
    "c = 2.5\n",
    "b = np.abs(a-c)\n",
    "index_closest = b.argmin()\n",
    "closest = a[index_closest]\n",
    "print(a)\n",
    "print(c)\n",
    "print(closest)"
   ]
  },
  {
   "cell_type": "markdown",
   "metadata": {},
   "source": [
    "#### 53. How to convert a float (32 bits) array into an integer (32 bits) in place?"
   ]
  },
  {
   "cell_type": "markdown",
   "metadata": {
    "jupyter": {
     "outputs_hidden": false
    }
   },
   "source": [
    "Let A be the array.\n",
    "Then use a = a.astype('int32')."
   ]
  },
  {
   "cell_type": "code",
   "execution_count": 31,
   "metadata": {},
   "outputs": [
    {
     "name": "stdout",
     "output_type": "stream",
     "text": [
      "[1.5 2.5]\n",
      "[1 2]\n"
     ]
    }
   ],
   "source": [
    "a = np.array([1.5, 2.5], dtype='float32')\n",
    "print(a)\n",
    "a = a.astype('int32')\n",
    "print(a)"
   ]
  },
  {
   "cell_type": "markdown",
   "metadata": {},
   "source": [
    "#### 59. How to sort an array by the nth column? (★★☆)"
   ]
  },
  {
   "cell_type": "markdown",
   "metadata": {
    "jupyter": {
     "outputs_hidden": false
    }
   },
   "source": [
    "Let A be a 2D array.\n",
    "b = A[:,n-1] which is the n-th column.\n",
    "c = b.argsort()\n",
    "d = a[c]\n"
   ]
  },
  {
   "cell_type": "code",
   "execution_count": 37,
   "metadata": {},
   "outputs": [
    {
     "name": "stdout",
     "output_type": "stream",
     "text": [
      "[[0.07702513 0.21001712 0.16777763 0.44878676]\n",
      " [0.2315568  0.21902629 0.70086386 0.33159518]\n",
      " [0.60531566 0.46730913 0.38086519 0.51220433]]\n",
      "[[0.2315568  0.21902629 0.70086386 0.33159518]\n",
      " [0.07702513 0.21001712 0.16777763 0.44878676]\n",
      " [0.60531566 0.46730913 0.38086519 0.51220433]]\n"
     ]
    }
   ],
   "source": [
    "A = np.random.rand(3,4)\n",
    "b = A[:, 3]\n",
    "c = b.argsort()\n",
    "d = A[c]\n",
    "print(A)\n",
    "print(d)"
   ]
  },
  {
   "cell_type": "markdown",
   "metadata": {},
   "source": [
    "#### 60. How to tell if a given 2D array has null columns? (★★☆)"
   ]
  },
  {
   "cell_type": "markdown",
   "metadata": {
    "jupyter": {
     "outputs_hidden": false
    }
   },
   "source": [
    "Let A be a 2D array.\n",
    "Use (~A.any(axis=0)).any().\n"
   ]
  },
  {
   "cell_type": "code",
   "execution_count": 38,
   "metadata": {},
   "outputs": [
    {
     "name": "stdout",
     "output_type": "stream",
     "text": [
      "[[0.97523097 0.17536446 0.84118089 0.72556214 0.49513077 0.19854043\n",
      "  0.37191749 0.71977176]\n",
      " [0.37332544 0.87871635 0.3230713  0.38277387 0.2915114  0.44489549\n",
      "  0.26107663 0.16812208]]\n",
      "False\n"
     ]
    }
   ],
   "source": [
    "A = np.random.rand(2,8)\n",
    "print(A)\n",
    "print((~A.any(axis=0)).any())"
   ]
  },
  {
   "cell_type": "markdown",
   "metadata": {},
   "source": [
    "#### 70. Consider the vector \\[1, 2, 3, 4, 5\\], how to build a new vector with 3 consecutive zeros interleaved between each value? (★★★)"
   ]
  },
  {
   "cell_type": "code",
   "execution_count": 44,
   "metadata": {
    "collapsed": false,
    "jupyter": {
     "outputs_hidden": false
    }
   },
   "outputs": [
    {
     "name": "stdout",
     "output_type": "stream",
     "text": [
      "[1 2 3 4 5]\n",
      "[1. 0. 0. 0. 2. 0. 0. 0. 3. 0. 0. 0. 4. 0. 0. 0. 5.]\n"
     ]
    }
   ],
   "source": [
    "a = np.arange(1, 6)\n",
    "print(a)\n",
    "b = 3\n",
    "c = np.zeros(len(a) + b * (len(a) - 1))\n",
    "c[:: (b+1)] = a\n",
    "print(c)"
   ]
  },
  {
   "cell_type": "markdown",
   "metadata": {},
   "source": [
    "#### 72. How to swap two rows of an array? (★★★)"
   ]
  },
  {
   "cell_type": "markdown",
   "metadata": {
    "jupyter": {
     "outputs_hidden": false
    }
   },
   "source": [
    "Let A be an array.  \n",
    "If you want to swap the i-th and j-th rows, use A[[i, j]] = A[[j, i]].\n"
   ]
  },
  {
   "cell_type": "code",
   "execution_count": 46,
   "metadata": {},
   "outputs": [
    {
     "name": "stdout",
     "output_type": "stream",
     "text": [
      "[[1. 0. 0. 0. 0.]\n",
      " [0. 1. 0. 0. 0.]\n",
      " [0. 0. 1. 0. 0.]\n",
      " [0. 0. 0. 1. 0.]\n",
      " [0. 0. 0. 0. 1.]]\n",
      "[[0. 0. 0. 0. 1.]\n",
      " [0. 1. 0. 0. 0.]\n",
      " [0. 0. 1. 0. 0.]\n",
      " [0. 0. 0. 1. 0.]\n",
      " [1. 0. 0. 0. 0.]]\n"
     ]
    }
   ],
   "source": [
    "A = np.identity(5)\n",
    "print(A)\n",
    "A[[0, 4]] = A[[4, 0]]\n",
    "print(A)\n"
   ]
  },
  {
   "cell_type": "markdown",
   "metadata": {},
   "source": [
    "#### 77. How to negate a boolean, or to change the sign of a float inplace? (★★★)"
   ]
  },
  {
   "cell_type": "markdown",
   "metadata": {
    "jupyter": {
     "outputs_hidden": false
    }
   },
   "source": [
    "Use np.logical_not() for the boolean version and np.negative for the float.\n",
    "Let A be a float array.\n",
    "np.negative(A, out = A)\n",
    "print(A)"
   ]
  },
  {
   "cell_type": "code",
   "execution_count": 47,
   "metadata": {},
   "outputs": [
    {
     "name": "stdout",
     "output_type": "stream",
     "text": [
      "[[-1.66759998  1.13749506  0.27016004]\n",
      " [-0.08544027  0.89322866 -1.92948128]\n",
      " [-0.01208837 -0.04382378 -0.17520518]]\n",
      "[[ 1.66759998 -1.13749506 -0.27016004]\n",
      " [ 0.08544027 -0.89322866  1.92948128]\n",
      " [ 0.01208837  0.04382378  0.17520518]]\n"
     ]
    }
   ],
   "source": [
    "A = np.random.randn(3, 3)\n",
    "print(A)\n",
    "np.negative(A, out = A)\n",
    "print(A)"
   ]
  },
  {
   "cell_type": "markdown",
   "metadata": {},
   "source": [
    "#### 83. How to find the most frequent value in an array?"
   ]
  },
  {
   "cell_type": "markdown",
   "metadata": {
    "jupyter": {
     "outputs_hidden": false
    }
   },
   "source": [
    "Let A be a an array.\n",
    "Then use np.bincount(A).argmax()."
   ]
  },
  {
   "cell_type": "code",
   "execution_count": 56,
   "metadata": {},
   "outputs": [
    {
     "name": "stdout",
     "output_type": "stream",
     "text": [
      "[2 2 0 3 1 1 0 0]\n",
      "0\n"
     ]
    }
   ],
   "source": [
    "A = np.random.randint(0, 4, 8)\n",
    "print(A)\n",
    "print(np.bincount(A).argmax())"
   ]
  },
  {
   "cell_type": "markdown",
   "metadata": {},
   "source": [
    "#### 89. How to get the n largest values of an array (★★★)"
   ]
  },
  {
   "cell_type": "markdown",
   "metadata": {
    "jupyter": {
     "outputs_hidden": false
    }
   },
   "source": [
    "Let A be an array.\n",
    "b = np.sort(A, axis = None)\n",
    "c = b[-n:]\n",
    "print(c)"
   ]
  },
  {
   "cell_type": "code",
   "execution_count": 57,
   "metadata": {},
   "outputs": [
    {
     "name": "stdout",
     "output_type": "stream",
     "text": [
      "[[ 0.2456826  -0.43204118  1.17231589  1.36726464 -0.99815812]\n",
      " [-0.14604587 -0.75796723 -1.62954732 -0.1005056  -2.06828635]\n",
      " [-1.55465482  0.01059242  0.50815685 -0.98729126  0.69081836]\n",
      " [-1.17702225  2.10401132 -0.92839055  0.206092   -0.5244922 ]\n",
      " [ 0.24285536  3.22351309  0.69952859  0.25858357  2.35811926]]\n",
      "[2.10401132 2.35811926 3.22351309]\n"
     ]
    }
   ],
   "source": [
    "A = np.random.randn(5, 5)\n",
    "n = 3\n",
    "print(A)\n",
    "b = np.sort(A, axis = None)\n",
    "c = b[-n:]\n",
    "print(c)"
   ]
  },
  {
   "cell_type": "markdown",
   "metadata": {},
   "source": [
    "#### 96. Given a two dimensional array, how to extract unique rows? (★★★)"
   ]
  },
  {
   "cell_type": "markdown",
   "metadata": {
    "jupyter": {
     "outputs_hidden": false
    }
   },
   "source": [
    "Let A be an array.\n",
    "Then use np.unique(A, axis = 0)."
   ]
  },
  {
   "cell_type": "code",
   "execution_count": 62,
   "metadata": {},
   "outputs": [
    {
     "data": {
      "text/plain": [
       "array([[0., 0., 0., 0., 0.]])"
      ]
     },
     "execution_count": 62,
     "metadata": {},
     "output_type": "execute_result"
    }
   ],
   "source": [
    "A = np.zeros((5, 5))\n",
    "np.unique(A, axis = 0)"
   ]
  }
 ],
 "metadata": {
  "kernelspec": {
   "display_name": "Python 3",
   "language": "python",
   "name": "python3"
  },
  "language_info": {
   "codemirror_mode": {
    "name": "ipython",
    "version": 3
   },
   "file_extension": ".py",
   "mimetype": "text/x-python",
   "name": "python",
   "nbconvert_exporter": "python",
   "pygments_lexer": "ipython3",
   "version": "3.8.3"
  }
 },
 "nbformat": 4,
 "nbformat_minor": 4
}
